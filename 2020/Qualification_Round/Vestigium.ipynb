{
 "cells": [
  {
   "cell_type": "code",
   "execution_count": null,
   "metadata": {},
   "outputs": [],
   "source": [
    "import math\n",
    "import os\n",
    "import random\n",
    "import re\n",
    "import sys\n",
    "import string\n",
    "import numpy as np\n",
    "import collections\n",
    "\n",
    "\n",
    "def compute_trace(m):\n",
    "    res = np.trace(m)\n",
    "    return(res)\n",
    "\n",
    "\n",
    "def find_duplicates(m):\n",
    "    res_row = 0\n",
    "    res_col = 0\n",
    "    for row in range(len(m)):\n",
    "        l = [item for item, count in collections.Counter(\n",
    "            m[row]).items() if count > 1]\n",
    "        if len(l) > 0:\n",
    "            res_row += 1\n",
    "    m_t = np.transpose(m)\n",
    "    for column in range(len(m_t)):\n",
    "        l = [item for item, count in collections.Counter(\n",
    "            m_t[column]).items() if count > 1]\n",
    "        if len(l) > 0:\n",
    "            res_col += 1\n",
    "    return(res_row, res_col)\n",
    "\n",
    "\n",
    "t = int(input())\n",
    "for t_itr in range(t):\n",
    "    rows = int(input())\n",
    "    matrix = [[0 for x in range(rows)] for y in range(rows)]\n",
    "    for row in range(rows):\n",
    "        matrix[row] = [int(i) for i in input().split()]\n",
    "    trace = compute_trace(matrix)\n",
    "    duplicates_row, duplicates_col = find_duplicates(matrix)\n",
    "    print(\"Case #{}: {} {} {}\".format(\n",
    "        t_itr+1, trace, duplicates_row, duplicates_col))\n"
   ]
  }
 ],
 "metadata": {
  "kernelspec": {
   "display_name": "Python 3",
   "language": "python",
   "name": "python3"
  },
  "language_info": {
   "codemirror_mode": {
    "name": "ipython",
    "version": 3
   },
   "file_extension": ".py",
   "mimetype": "text/x-python",
   "name": "python",
   "nbconvert_exporter": "python",
   "pygments_lexer": "ipython3",
   "version": "3.7.3"
  }
 },
 "nbformat": 4,
 "nbformat_minor": 2
}
