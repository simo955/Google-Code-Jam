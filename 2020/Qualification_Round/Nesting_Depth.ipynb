{
 "cells": [
  {
   "cell_type": "code",
   "execution_count": null,
   "metadata": {},
   "outputs": [
    {
     "name": "stdout",
     "output_type": "stream",
     "text": [
      "4\n",
      "0000\n",
      "Case #1: 0000\n",
      "101\n",
      "Case #2: (1)0(1)\n"
     ]
    }
   ],
   "source": [
    "def resolve_prob(l):\n",
    "    p_counter=0\n",
    "    new_l=[]\n",
    "    for i in range(len(l)):\n",
    "        current=int(l[i])\n",
    "        \n",
    "        if current==p_counter:\n",
    "            new_l.append(l[i])\n",
    "        elif current> p_counter:\n",
    "            l1=['(']* (current-p_counter)\n",
    "            new_l=new_l+l1\n",
    "            new_l.append(l[i])\n",
    "            p_counter = current\n",
    "        else:\n",
    "            l1=[')']* (p_counter-current)\n",
    "            new_l=new_l+l1\n",
    "            new_l.append(l[i])\n",
    "            p_counter = current\n",
    "    #close every open bracket\n",
    "    l1=[')']* (p_counter)\n",
    "    new_l=new_l+l1\n",
    "\n",
    "    return  ''.join(new_l)\n",
    "\n",
    "\n",
    "\n",
    "\n",
    "#Read inpunt\n",
    "t = int(input()) \n",
    "for i in range(1, t + 1):\n",
    "    l = list(input())\n",
    "    s1=resolve_prob(l)\n",
    "    \n",
    "    #format output\n",
    "    print(\"Case #{}: {}\".format(i, s1))\n"
   ]
  }
 ],
 "metadata": {
  "kernelspec": {
   "display_name": "Python 3",
   "language": "python",
   "name": "python3"
  },
  "language_info": {
   "codemirror_mode": {
    "name": "ipython",
    "version": 3
   },
   "file_extension": ".py",
   "mimetype": "text/x-python",
   "name": "python",
   "nbconvert_exporter": "python",
   "pygments_lexer": "ipython3",
   "version": "3.7.3"
  }
 },
 "nbformat": 4,
 "nbformat_minor": 2
}
